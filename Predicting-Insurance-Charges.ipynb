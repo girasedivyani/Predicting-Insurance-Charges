{
 "cells": [
  {
   "cell_type": "code",
   "execution_count": 1,
   "id": "ce448205",
   "metadata": {},
   "outputs": [],
   "source": [
    "import pandas as pd \n",
    "import numpy as np \n",
    "from sklearn.ensemble import AdaBoostRegressor\n",
    "from sklearn.model_selection import train_test_split \n",
    "from sklearn.metrics import mean_absolute_error, mean_squared_error, r2_score\n",
    "from sklearn import metrics \n",
    "import warnings \n",
    "warnings.filterwarnings('ignore')"
   ]
  },
  {
   "cell_type": "raw",
   "id": "f616a5e8",
   "metadata": {},
   "source": [
    "By using Ada-Boost Regression, We are predicting the Charges on the basis of different attributes."
   ]
  },
  {
   "cell_type": "code",
   "execution_count": 3,
   "id": "337b1b2f",
   "metadata": {},
   "outputs": [
    {
     "data": {
      "text/html": [
       "<div>\n",
       "<style scoped>\n",
       "    .dataframe tbody tr th:only-of-type {\n",
       "        vertical-align: middle;\n",
       "    }\n",
       "\n",
       "    .dataframe tbody tr th {\n",
       "        vertical-align: top;\n",
       "    }\n",
       "\n",
       "    .dataframe thead th {\n",
       "        text-align: right;\n",
       "    }\n",
       "</style>\n",
       "<table border=\"1\" class=\"dataframe\">\n",
       "  <thead>\n",
       "    <tr style=\"text-align: right;\">\n",
       "      <th></th>\n",
       "      <th>age</th>\n",
       "      <th>sex</th>\n",
       "      <th>bmi</th>\n",
       "      <th>children</th>\n",
       "      <th>smoker</th>\n",
       "      <th>region</th>\n",
       "      <th>charges</th>\n",
       "    </tr>\n",
       "  </thead>\n",
       "  <tbody>\n",
       "    <tr>\n",
       "      <th>0</th>\n",
       "      <td>19</td>\n",
       "      <td>female</td>\n",
       "      <td>27.900</td>\n",
       "      <td>0</td>\n",
       "      <td>yes</td>\n",
       "      <td>southwest</td>\n",
       "      <td>16884.92400</td>\n",
       "    </tr>\n",
       "    <tr>\n",
       "      <th>1</th>\n",
       "      <td>18</td>\n",
       "      <td>male</td>\n",
       "      <td>33.770</td>\n",
       "      <td>1</td>\n",
       "      <td>no</td>\n",
       "      <td>southeast</td>\n",
       "      <td>1725.55230</td>\n",
       "    </tr>\n",
       "    <tr>\n",
       "      <th>2</th>\n",
       "      <td>28</td>\n",
       "      <td>male</td>\n",
       "      <td>33.000</td>\n",
       "      <td>3</td>\n",
       "      <td>no</td>\n",
       "      <td>southeast</td>\n",
       "      <td>4449.46200</td>\n",
       "    </tr>\n",
       "    <tr>\n",
       "      <th>3</th>\n",
       "      <td>33</td>\n",
       "      <td>male</td>\n",
       "      <td>22.705</td>\n",
       "      <td>0</td>\n",
       "      <td>no</td>\n",
       "      <td>northwest</td>\n",
       "      <td>21984.47061</td>\n",
       "    </tr>\n",
       "    <tr>\n",
       "      <th>4</th>\n",
       "      <td>32</td>\n",
       "      <td>male</td>\n",
       "      <td>28.880</td>\n",
       "      <td>0</td>\n",
       "      <td>no</td>\n",
       "      <td>northwest</td>\n",
       "      <td>3866.85520</td>\n",
       "    </tr>\n",
       "  </tbody>\n",
       "</table>\n",
       "</div>"
      ],
      "text/plain": [
       "   age     sex     bmi  children smoker     region      charges\n",
       "0   19  female  27.900         0    yes  southwest  16884.92400\n",
       "1   18    male  33.770         1     no  southeast   1725.55230\n",
       "2   28    male  33.000         3     no  southeast   4449.46200\n",
       "3   33    male  22.705         0     no  northwest  21984.47061\n",
       "4   32    male  28.880         0     no  northwest   3866.85520"
      ]
     },
     "execution_count": 3,
     "metadata": {},
     "output_type": "execute_result"
    }
   ],
   "source": [
    "df=pd.read_csv('insurance .csv')\n",
    "df.head() "
   ]
  },
  {
   "cell_type": "code",
   "execution_count": 4,
   "id": "9f975437",
   "metadata": {},
   "outputs": [
    {
     "name": "stdout",
     "output_type": "stream",
     "text": [
      "<class 'pandas.core.frame.DataFrame'>\n",
      "RangeIndex: 1338 entries, 0 to 1337\n",
      "Data columns (total 7 columns):\n",
      " #   Column    Non-Null Count  Dtype  \n",
      "---  ------    --------------  -----  \n",
      " 0   age       1338 non-null   int64  \n",
      " 1   sex       1338 non-null   object \n",
      " 2   bmi       1338 non-null   float64\n",
      " 3   children  1338 non-null   int64  \n",
      " 4   smoker    1338 non-null   object \n",
      " 5   region    1338 non-null   object \n",
      " 6   charges   1338 non-null   float64\n",
      "dtypes: float64(2), int64(2), object(3)\n",
      "memory usage: 73.3+ KB\n"
     ]
    }
   ],
   "source": [
    "df.info()"
   ]
  },
  {
   "cell_type": "code",
   "execution_count": 5,
   "id": "d39e4a10",
   "metadata": {},
   "outputs": [
    {
     "data": {
      "text/plain": [
       "array(['female', 'male'], dtype=object)"
      ]
     },
     "execution_count": 5,
     "metadata": {},
     "output_type": "execute_result"
    }
   ],
   "source": [
    "df['sex'].unique() "
   ]
  },
  {
   "cell_type": "code",
   "execution_count": 6,
   "id": "9b685e59",
   "metadata": {},
   "outputs": [],
   "source": [
    "df['sex'].replace({'male':1,'female':0},inplace = True)"
   ]
  },
  {
   "cell_type": "code",
   "execution_count": 7,
   "id": "4dc1649f",
   "metadata": {},
   "outputs": [
    {
     "data": {
      "text/plain": [
       "array(['yes', 'no'], dtype=object)"
      ]
     },
     "execution_count": 7,
     "metadata": {},
     "output_type": "execute_result"
    }
   ],
   "source": [
    "df['smoker'].unique() "
   ]
  },
  {
   "cell_type": "code",
   "execution_count": 8,
   "id": "49b5c24f",
   "metadata": {},
   "outputs": [],
   "source": [
    "df['smoker'].replace({'yes':1,'no':0},inplace = True)"
   ]
  },
  {
   "cell_type": "code",
   "execution_count": 9,
   "id": "497719db",
   "metadata": {},
   "outputs": [],
   "source": [
    "df.drop(['region'],axis=1,inplace=True)"
   ]
  },
  {
   "cell_type": "code",
   "execution_count": 10,
   "id": "c205e379",
   "metadata": {},
   "outputs": [
    {
     "name": "stdout",
     "output_type": "stream",
     "text": [
      "<class 'pandas.core.frame.DataFrame'>\n",
      "RangeIndex: 1338 entries, 0 to 1337\n",
      "Data columns (total 6 columns):\n",
      " #   Column    Non-Null Count  Dtype  \n",
      "---  ------    --------------  -----  \n",
      " 0   age       1338 non-null   int64  \n",
      " 1   sex       1338 non-null   int64  \n",
      " 2   bmi       1338 non-null   float64\n",
      " 3   children  1338 non-null   int64  \n",
      " 4   smoker    1338 non-null   int64  \n",
      " 5   charges   1338 non-null   float64\n",
      "dtypes: float64(2), int64(4)\n",
      "memory usage: 62.8 KB\n"
     ]
    }
   ],
   "source": [
    "df.info()  "
   ]
  },
  {
   "cell_type": "code",
   "execution_count": 11,
   "id": "52c4bebc",
   "metadata": {},
   "outputs": [],
   "source": [
    "import matplotlib.pyplot as plt\n",
    "import seaborn as sns"
   ]
  },
  {
   "cell_type": "code",
   "execution_count": 12,
   "id": "1b3984a4",
   "metadata": {},
   "outputs": [
    {
     "data": {
      "text/plain": [
       "<AxesSubplot:>"
      ]
     },
     "execution_count": 12,
     "metadata": {},
     "output_type": "execute_result"
    },
    {
     "data": {
      "image/png": "[encoded data removed]",
      "text/plain": [
       "<Figure size 1400x800 with 2 Axes>"
      ]
     },
     "metadata": {},
     "output_type": "display_data"
    }
   ],
   "source": [
    "plt.figure(figsize = (14,8))\n",
    "sns.heatmap(df.corr(), annot = True)"
   ]
  },
  {
   "cell_type": "code",
   "execution_count": 13,
   "id": "6820703d",
   "metadata": {},
   "outputs": [],
   "source": [
    "x=df.drop(['charges'],axis=1)\n",
    "y=df['charges']"
   ]
  },
  {
   "cell_type": "code",
   "execution_count": 14,
   "id": "6b75d159",
   "metadata": {},
   "outputs": [
    {
     "data": {
      "text/plain": [
       "(1338, 5)"
      ]
     },
     "execution_count": 14,
     "metadata": {},
     "output_type": "execute_result"
    }
   ],
   "source": [
    "x.shape"
   ]
  },
  {
   "cell_type": "code",
   "execution_count": 15,
   "id": "e0a0e14f",
   "metadata": {},
   "outputs": [
    {
     "data": {
      "text/plain": [
       "(1338,)"
      ]
     },
     "execution_count": 15,
     "metadata": {},
     "output_type": "execute_result"
    }
   ],
   "source": [
    "y.shape"
   ]
  },
  {
   "cell_type": "code",
   "execution_count": 16,
   "id": "6a9ed778",
   "metadata": {},
   "outputs": [
    {
     "data": {
      "text/plain": [
       "(1070, 5)"
      ]
     },
     "execution_count": 16,
     "metadata": {},
     "output_type": "execute_result"
    }
   ],
   "source": [
    "x_train,x_test,y_train,y_test = train_test_split(x,y, test_size = 0.2, random_state = 1)\n",
    "\n",
    "x_train.shape"
   ]
  },
  {
   "cell_type": "code",
   "execution_count": 17,
   "id": "8e454cc3",
   "metadata": {},
   "outputs": [
    {
     "data": {
      "text/plain": [
       "AdaBoostRegressor()"
      ]
     },
     "execution_count": 17,
     "metadata": {},
     "output_type": "execute_result"
    }
   ],
   "source": [
    "ada_regr=AdaBoostRegressor() \n",
    "ada_regr.fit(x_train,y_train) "
   ]
  },
  {
   "cell_type": "code",
   "execution_count": 18,
   "id": "ba899e0b",
   "metadata": {},
   "outputs": [
    {
     "data": {
      "text/plain": [
       "array([ 7811.71940486, 14330.23702393, 14330.23702393, 16787.44230424,\n",
       "        7811.71940486, 44290.37633811, 16787.44230424, 14330.23702393,\n",
       "        7811.71940486, 20391.78090077, 15169.88612262, 17978.05711629,\n",
       "       11365.30659876,  8052.28526852,  7294.7545361 , 16787.44230424,\n",
       "        7811.71940486, 11365.30659876, 18570.48483495, 15169.88612262,\n",
       "       14330.23702393, 44290.37633811, 14330.23702393, 14330.23702393,\n",
       "        7294.7545361 ,  8052.28526852, 11365.30659876, 14330.23702393,\n",
       "       11365.30659876,  7811.71940486, 18216.30024912, 11365.30659876,\n",
       "       24936.63470941, 39504.44657667, 26112.45308836, 14330.23702393,\n",
       "       44290.37633811, 20391.78090077, 14330.23702393, 44609.94099535,\n",
       "       11365.30659876, 14330.23702393, 16787.44230424, 18570.48483495,\n",
       "       11365.30659876, 15169.88612262,  7811.71940486, 44290.37633811,\n",
       "       12084.82542326, 18216.30024912, 15169.88612262, 18216.30024912,\n",
       "        7811.71940486, 16787.44230424, 20391.78090077,  7811.71940486,\n",
       "       44290.37633811, 15169.88612262, 11365.30659876,  7294.7545361 ,\n",
       "        7811.71940486, 15169.88612262, 20391.78090077,  7811.71940486,\n",
       "       15169.88612262, 16787.44230424, 16787.44230424, 18216.30024912,\n",
       "        7811.71940486, 20238.16857327, 44609.94099535, 44290.37633811,\n",
       "        7811.71940486, 17978.05711629, 15169.88612262, 44290.37633811,\n",
       "        7811.71940486,  7811.71940486, 14330.23702393, 16787.44230424,\n",
       "        7811.71940486, 18216.30024912, 17978.05711629,  7811.71940486,\n",
       "       44290.37633811, 39504.44657667,  8052.28526852, 44290.37633811,\n",
       "       16787.44230424, 11365.30659876, 20391.78090077, 24936.63470941,\n",
       "       18570.48483495, 16787.44230424,  7811.71940486, 14330.23702393,\n",
       "       16787.44230424, 18216.30024912, 14330.23702393, 11365.30659876,\n",
       "       14330.23702393, 20238.16857327, 20238.16857327, 39504.44657667,\n",
       "       24936.63470941, 20391.78090077,  7811.71940486, 16787.44230424,\n",
       "        7294.7545361 , 14330.23702393,  7811.71940486, 11365.30659876,\n",
       "        7811.71940486, 18570.48483495,  7811.71940486,  7811.71940486,\n",
       "       11491.4565744 , 15169.88612262, 11365.30659876,  7811.71940486,\n",
       "       14330.23702393, 16787.44230424,  8052.28526852, 10746.86897286,\n",
       "       44609.94099535, 16787.44230424, 18216.30024912, 20238.16857327,\n",
       "       44290.37633811, 12715.79014816, 39504.44657667,  7811.71940486,\n",
       "       11365.30659876, 44290.37633811, 14330.23702393,  7811.71940486,\n",
       "        7811.71940486,  7294.7545361 , 14284.43813484, 14330.23702393,\n",
       "       15169.88612262, 11365.30659876, 20238.16857327, 15169.88612262,\n",
       "       18216.30024912, 14330.23702393,  7294.7545361 , 11365.30659876,\n",
       "        7294.7545361 , 11365.30659876,  8052.28526852, 11365.30659876,\n",
       "       17978.05711629, 18216.30024912, 14330.23702393,  8052.28526852,\n",
       "       16787.44230424, 16787.44230424, 16787.44230424,  7811.71940486,\n",
       "        7811.71940486, 44609.94099535, 18216.30024912,  7811.71940486,\n",
       "       11365.30659876,  7811.71940486, 44290.37633811, 17978.05711629,\n",
       "       14330.23702393,  7811.71940486, 11365.30659876,  7811.71940486,\n",
       "       24936.63470941, 24936.63470941,  7811.71940486,  8052.28526852,\n",
       "        7811.71940486, 18570.48483495,  7811.71940486, 11491.4565744 ,\n",
       "       15169.88612262, 15169.88612262, 14330.23702393,  8052.28526852,\n",
       "        7811.71940486, 20391.78090077,  7811.71940486, 16787.44230424,\n",
       "       10746.86897286, 11365.30659876, 18570.48483495, 44609.94099535,\n",
       "        7811.71940486,  7811.71940486, 11365.30659876, 12084.82542326,\n",
       "       11365.30659876,  7811.71940486, 16787.44230424, 16787.44230424,\n",
       "        8052.28526852, 11365.30659876, 17173.42312899, 11365.30659876,\n",
       "       11365.30659876,  7294.7545361 ,  8052.28526852,  8052.28526852,\n",
       "        7811.71940486, 14330.23702393,  7811.71940486, 24936.63470941,\n",
       "       11365.30659876, 11365.30659876, 11365.30659876, 44609.94099535,\n",
       "       14330.23702393, 39504.44657667,  7294.7545361 , 29136.601341  ,\n",
       "        7811.71940486, 24936.63470941, 18216.30024912, 11365.30659876,\n",
       "        7811.71940486,  7811.71940486,  7811.71940486,  7811.71940486,\n",
       "       20391.78090077, 15169.88612262, 11365.30659876, 18570.48483495,\n",
       "       44609.94099535, 11365.30659876, 17978.05711629, 14330.23702393,\n",
       "       20238.16857327,  7811.71940486, 16787.44230424,  7811.71940486,\n",
       "       16787.44230424,  7811.71940486, 18570.48483495,  7811.71940486,\n",
       "       14330.23702393, 24936.63470941, 11365.30659876, 16787.44230424,\n",
       "        7811.71940486, 15169.88612262, 17978.05711629,  7811.71940486,\n",
       "       15169.88612262, 16787.44230424,  7811.71940486,  7811.71940486,\n",
       "       39504.44657667, 20391.78090077,  7811.71940486, 44609.94099535,\n",
       "       12715.79014816,  8052.28526852, 16787.44230424, 44290.37633811,\n",
       "       44290.37633811, 44609.94099535,  7811.71940486,  7811.71940486])"
      ]
     },
     "execution_count": 18,
     "metadata": {},
     "output_type": "execute_result"
    }
   ],
   "source": [
    "y_pred_test=ada_regr.predict(x_test)\n",
    "y_pred_test "
   ]
  },
  {
   "cell_type": "code",
   "execution_count": 19,
   "id": "eaf36aa4",
   "metadata": {},
   "outputs": [
    {
     "data": {
      "text/plain": [
       "array([14330.23702393, 17173.42312899,  7294.7545361 , ...,\n",
       "       44609.94099535, 20238.16857327, 18216.30024912])"
      ]
     },
     "execution_count": 19,
     "metadata": {},
     "output_type": "execute_result"
    }
   ],
   "source": [
    "y_pred_train=ada_regr.predict(x_train)\n",
    "y_pred_train"
   ]
  },
  {
   "cell_type": "markdown",
   "id": "b783277e",
   "metadata": {},
   "source": [
    "# Testing Dataset Accuracy"
   ]
  },
  {
   "cell_type": "code",
   "execution_count": 20,
   "id": "3e2b01cc",
   "metadata": {},
   "outputs": [
    {
     "name": "stdout",
     "output_type": "stream",
     "text": [
      "Mean Squared error: 31989031.21738961\n",
      "5655.884653826456\n"
     ]
    },
    {
     "data": {
      "text/plain": [
       "78.57121238164007"
      ]
     },
     "execution_count": 20,
     "metadata": {},
     "output_type": "execute_result"
    }
   ],
   "source": [
    "y_pred_test = ada_regr.predict(x_test)\n",
    "\n",
    "mse = mean_squared_error(y_test,y_pred_test)\n",
    "print('Mean Squared error:', mse)\n",
    "\n",
    "rmse = np.sqrt(mse)\n",
    "print(rmse)\n",
    "\n",
    "\n",
    "r2_score(y_test,y_pred_test)*100"
   ]
  },
  {
   "cell_type": "markdown",
   "id": "e3c89394",
   "metadata": {},
   "source": [
    "# Training Data Accuracy"
   ]
  },
  {
   "cell_type": "code",
   "execution_count": 21,
   "id": "53d77ea9",
   "metadata": {},
   "outputs": [
    {
     "name": "stdout",
     "output_type": "stream",
     "text": [
      "31085903.802127186\n",
      "5575.473415067745\n"
     ]
    },
    {
     "data": {
      "text/plain": [
       "78.68623061715961"
      ]
     },
     "execution_count": 21,
     "metadata": {},
     "output_type": "execute_result"
    }
   ],
   "source": [
    "y_pred_train=ada_regr.predict(x_train)\n",
    "\n",
    "mse=mean_squared_error(y_train,y_pred_train)\n",
    "print(mse)\n",
    "\n",
    "rmse=np.sqrt(mse)\n",
    "print(rmse)\n",
    "\n",
    "r2_score(y_train,y_pred_train)  *100"
   ]
  },
  {
   "cell_type": "code",
   "execution_count": null,
   "id": "d1ad3a9e",
   "metadata": {},
   "outputs": [],
   "source": []
  }
 ],
 "metadata": {
  "kernelspec": {
   "display_name": "Python 3 (ipykernel)",
   "language": "python",
   "name": "python3"
  },
  "language_info": {
   "codemirror_mode": {
    "name": "ipython",
    "version": 3
   },
   "file_extension": ".py",
   "mimetype": "text/x-python",
   "name": "python",
   "nbconvert_exporter": "python",
   "pygments_lexer": "ipython3",
   "version": "3.9.13"
  }
 },
 "nbformat": 4,
 "nbformat_minor": 5
}
